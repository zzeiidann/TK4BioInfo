{
 "cells": [
  {
   "cell_type": "code",
   "execution_count": 1,
   "id": "722af010",
   "metadata": {},
   "outputs": [
    {
     "name": "stdout",
     "output_type": "stream",
     "text": [
      "\n",
      "Sequence 1: ACGTGGTT\n",
      "Sequence 2: GCTTTTGTA\n",
      "\n",
      "Type: global\n",
      "Identity: 40.00%\n",
      "Similarity: 70.00%\n",
      "Gaps: 3\n",
      "\n",
      "Score: 2.5\n",
      "\n",
      "Sequence 1: -AC-GTGGTT\n",
      "              | .|.||.\n",
      "Sequence 2: G-CTTTTGTA\n",
      "\n"
     ]
    }
   ],
   "source": [
    "from TK4BioInfo.seq_alignment import pairwise\n",
    "\n",
    "# Perform global alignment\n",
    "result = pairwise(\"ACGTGGTT\", \"GCTTTTGTA\", mode=\"global\")\n",
    "result.view(width=100)"
   ]
  },
  {
   "cell_type": "code",
   "execution_count": null,
   "id": "10a67b20",
   "metadata": {},
   "outputs": [],
   "source": []
  },
  {
   "cell_type": "code",
   "execution_count": null,
   "id": "295ec02c",
   "metadata": {},
   "outputs": [],
   "source": []
  }
 ],
 "metadata": {
  "kernelspec": {
   "display_name": "base",
   "language": "python",
   "name": "python3"
  },
  "language_info": {
   "codemirror_mode": {
    "name": "ipython",
    "version": 3
   },
   "file_extension": ".py",
   "mimetype": "text/x-python",
   "name": "python",
   "nbconvert_exporter": "python",
   "pygments_lexer": "ipython3",
   "version": "3.11.9"
  }
 },
 "nbformat": 4,
 "nbformat_minor": 5
}
