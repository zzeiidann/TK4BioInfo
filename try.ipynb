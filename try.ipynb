{
 "cells": [
  {
   "cell_type": "code",
   "execution_count": 1,
   "id": "722af010",
   "metadata": {},
   "outputs": [
    {
     "name": "stdout",
     "output_type": "stream",
     "text": [
      "\n",
      "Sequence 1: ACGTGGTT\n",
      "Sequence 2: GCTTTTGTA\n",
      "\n",
      "Type: global\n",
      "Identity: 50.00%\n",
      "Similarity: 50.00%\n",
      "Gaps: 1\n",
      "\n",
      "Score: 7.0\n",
      "\n",
      "pattern: ACGTG-GTT\n",
      "         .|.|. ||.\n",
      "subject: GCTTTTGTA\n",
      "\n",
      "Score: 7.0\n",
      "\n",
      "Sequence 1: ACGTGGTT\n",
      "Sequence 2: GCTTTTGTA\n",
      "\n",
      "Type: local\n",
      "Identity: 75.00%\n",
      "Similarity: 75.00%\n",
      "Gaps: 0\n",
      "\n",
      "Score: 14.0\n",
      "\n",
      "pattern: TGGT\n",
      "         |.||\n",
      "subject: TTGT\n",
      "\n",
      "Score: 14.0\n"
     ]
    }
   ],
   "source": [
    "from TK4BioInfo.seq_alignment import pairwise\n",
    "\n",
    "# Global\n",
    "# Global dengan gap_extension=4 (R default untuk global)\n",
    "result = pairwise(\"ACGTGGTT\", \"GCTTTTGTA\", mode=\"global\", gap_extension=4)\n",
    "result.view()\n",
    "print(f\"Score: {result.score}\")\n",
    "\n",
    "# Local\n",
    "result = pairwise(\"ACGTGGTT\", \"GCTTTTGTA\", mode=\"local\")\n",
    "result.view()\n",
    "print(f\"Score: {result.score}\")"
   ]
  },
  {
   "cell_type": "code",
   "execution_count": 2,
   "id": "295ec02c",
   "metadata": {},
   "outputs": [
    {
     "name": "stdout",
     "output_type": "stream",
     "text": [
      "\n",
      "Sequence 1: ACGTGGTT\n",
      "Sequence 2: GCTTTTGTA\n",
      "\n",
      "Type: local\n",
      "Identity: 75.00%\n",
      "Similarity: 100.00%\n",
      "Gaps: 0\n",
      "\n",
      "Score: 14.0\n",
      "\n",
      "pattern: TGGT\n",
      "         |.||\n",
      "subject: TTGT\n",
      "\n"
     ]
    }
   ],
   "source": [
    "from TK4BioInfo.seq_alignment import pairwise\n",
    "\n",
    "result = pairwise(\n",
    "    \"ACGTGGTT\", \n",
    "    \"GCTTTTGTA\",\n",
    "    gap_opening=10,\n",
    "    gap_extension=0.5,\n",
    "    mode=\"local\",\n",
    ")\n",
    "result.view(width=100)"
   ]
  },
  {
   "cell_type": "code",
   "execution_count": null,
   "id": "55f235fe",
   "metadata": {},
   "outputs": [],
   "source": []
  }
 ],
 "metadata": {
  "kernelspec": {
   "display_name": "base",
   "language": "python",
   "name": "python3"
  },
  "language_info": {
   "codemirror_mode": {
    "name": "ipython",
    "version": 3
   },
   "file_extension": ".py",
   "mimetype": "text/x-python",
   "name": "python",
   "nbconvert_exporter": "python",
   "pygments_lexer": "ipython3",
   "version": "3.11.9"
  }
 },
 "nbformat": 4,
 "nbformat_minor": 5
}
